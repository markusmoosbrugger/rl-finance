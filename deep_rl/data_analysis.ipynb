{
 "cells": [
  {
   "cell_type": "markdown",
   "source": [
    "# Data Analysis of Interest Rates\n",
    "\n",
    "This notebook shows a basic data analysis of the interest rate series. It starts by simple plotting the series and then\n",
    "analyses its structure."
   ],
   "metadata": {
    "collapsed": false
   }
  },
  {
   "cell_type": "markdown",
   "source": [
    "## Plotting Interest rates\n",
    "\n",
    "First, we look at the interest rates and the cumulative sum."
   ],
   "metadata": {
    "collapsed": false,
    "pycharm": {
     "name": "#%% md\n"
    }
   }
  },
  {
   "cell_type": "code",
   "execution_count": null,
   "outputs": [],
   "source": [
    "train_start = '2018-10-01 00:00:00'\n",
    "train_end = '2020-01-01 00:00:00'"
   ],
   "metadata": {
    "collapsed": false,
    "pycharm": {
     "name": "#%%\n"
    }
   }
  },
  {
   "cell_type": "code",
   "execution_count": null,
   "outputs": [],
   "source": [
    "import pandas as pd\n",
    "import numpy as np\n",
    "import cufflinks as cf\n",
    "\n",
    "cf.go_offline()\n",
    "\n",
    "df = pd.read_csv('../data/interest_rates_p1.csv')\n",
    "df['timestamp'] = pd.to_datetime(df['timestamp'])\n",
    "df.set_index('timestamp', inplace=True)\n",
    "df['cum_interest_rate'] = df['interest_rate'].cumsum()\n",
    "df"
   ],
   "metadata": {
    "collapsed": false,
    "pycharm": {
     "name": "#%%\n"
    }
   }
  },
  {
   "cell_type": "code",
   "execution_count": null,
   "outputs": [],
   "source": [
    "df['train_interest_rate'] = df['interest_rate']\n",
    "df['test_interest_rate'] = df['interest_rate']\n",
    "df.loc[df.index >= pd.to_datetime(train_end), 'train_interest_rate'] = np.nan\n",
    "df.loc[df.index < pd.to_datetime(train_end), 'test_interest_rate'] = np.nan\n",
    "fig = df[['train_interest_rate', 'test_interest_rate']].iplot(title='Interest rate history',\n",
    "                                                              yaxis_title='Interest rate in %', asFigure=True)\n",
    "fig.update_layout(yaxis=dict(tickformat=\".2%\"))\n",
    "fig"
   ],
   "metadata": {
    "collapsed": false,
    "pycharm": {
     "name": "#%%\n"
    }
   }
  },
  {
   "cell_type": "markdown",
   "source": [
    "Plotting the cumulative sum of interest rates."
   ],
   "metadata": {
    "collapsed": false
   }
  },
  {
   "cell_type": "code",
   "source": [
    "df['cum_train_interest_rate'] = df['cum_interest_rate']\n",
    "df['cum_test_interest_rate'] = df['cum_interest_rate']\n",
    "df.loc[df.index >= pd.to_datetime(train_end), 'cum_train_interest_rate'] = np.nan\n",
    "df.loc[df.index < pd.to_datetime(train_end), 'cum_test_interest_rate'] = np.nan\n",
    "fig = df[['cum_train_interest_rate', 'cum_test_interest_rate']].iplot(title='Cumulative Interest rate history',\n",
    "                                                                      yaxis_title='Interest rate in %', asFigure=True)\n",
    "fig.update_layout(yaxis=dict(tickformat=\".2%\"))\n",
    "fig"
   ],
   "metadata": {
    "collapsed": false,
    "pycharm": {
     "name": "#%%\n"
    }
   },
   "execution_count": null,
   "outputs": []
  },
  {
   "cell_type": "markdown",
   "source": [
    "Looking at the cumulative interest rates yields a return of 5 % by simple being long all the time."
   ],
   "metadata": {
    "collapsed": false,
    "pycharm": {
     "name": "#%% md\n"
    }
   }
  },
  {
   "cell_type": "markdown",
   "source": [
    "## Modelling\n",
    "Assuming that the interest rates series is stationary (for simplicity it is not shown that it is) we can use the partial\n",
    "auto-correlation for determining the number of lags for predicting the next interest rate. This will give us a better\n",
    "understanding of the underlying series process."
   ],
   "metadata": {
    "collapsed": false,
    "pycharm": {
     "name": "#%% md\n"
    }
   }
  },
  {
   "cell_type": "code",
   "execution_count": null,
   "outputs": [],
   "source": [
    "# separate data into training and test subsets\n",
    "train_df = df[df.index < pd.to_datetime(train_end)]\n",
    "test_df = df[df.index >= pd.to_datetime(train_end)]"
   ],
   "metadata": {
    "collapsed": false,
    "pycharm": {
     "name": "#%%\n"
    }
   }
  },
  {
   "cell_type": "markdown",
   "source": [
    "## Partial Autocorrelation\n",
    "Partial Autocorrelation is used to determine the number of significant lags (if modelled linearly) for predicting the\n",
    "next interest rate. (More details can be found under \"Auto Regressive Models\") This gives us a better understanding of\n",
    "needed interest rates used as input. However, this does not have to be the optimal number of lags for determining the\n",
    "trading action."
   ],
   "metadata": {
    "collapsed": false
   }
  },
  {
   "cell_type": "code",
   "execution_count": null,
   "outputs": [],
   "source": [
    "from statsmodels.graphics.tsaplots import plot_pacf\n",
    "from statsmodels.graphics.tsaplots import plot_acf\n",
    "from matplotlib import pyplot as plt\n",
    "\n",
    "# Plot the auto-correlation of the interest rates\n",
    "# Shows the correlation of a sequence with itself\n",
    "plot_acf(train_df['interest_rate'], lags=10)\n",
    "plt.show()\n",
    "\n",
    "# Shows the correlation of a sequence with itself but only shows the direct effect of one lag to the next interest rate\n",
    "plot_pacf(train_df['interest_rate'], lags=10)\n",
    "plt.show()\n"
   ],
   "metadata": {
    "collapsed": false,
    "pycharm": {
     "name": "#%%\n"
    }
   }
  },
  {
   "cell_type": "markdown",
   "source": [
    "The Partial Autocorrelation shows us that the number of significant lags (if modelled linearly) is 6.\n",
    "\n",
    "## Linear Regression\n",
    "In this section we will model the interest rate history as an Auto Regressive model. This will give us some initial\n",
    "weights for our neural network."
   ],
   "metadata": {
    "collapsed": false,
    "pycharm": {
     "name": "#%% md\n"
    }
   }
  },
  {
   "cell_type": "code",
   "source": [
    "def normalize_interest_rate(interest_rate):\n",
    "    return (interest_rate - 0.002) / 0.002 + 1\n",
    "\n",
    "\n",
    "lags = 6\n",
    "\n",
    "for lag in range(lags):\n",
    "    # normalize interest rate and shift it\n",
    "    df[f'interest_rate_{lag}'] = normalize_interest_rate(df['interest_rate'].shift(lag))\n",
    "\n",
    "# target value of linear regression\n",
    "df['next_interest_rate'] = df['interest_rate_0'].shift(-1)\n",
    "\n",
    "train_df = df[df.index < pd.to_datetime(train_end)]\n",
    "test_df = df[df.index >= pd.to_datetime(train_end)]\n",
    "train_df"
   ],
   "metadata": {
    "collapsed": false,
    "pycharm": {
     "name": "#%%\n"
    }
   },
   "execution_count": null,
   "outputs": []
  },
  {
   "cell_type": "code",
   "source": [
    "from sklearn.linear_model import LinearRegression\n",
    "\n",
    "lr = LinearRegression(fit_intercept=False)\n",
    "ranged = train_df[[f'interest_rate_{lag}' for lag in range(lags)] + ['next_interest_rate']].dropna()\n",
    "lr.fit(ranged[[f'interest_rate_{lag}' for lag in range(lags)]], ranged['next_interest_rate'])\n",
    "pd.Series(lr.coef_).iplot(kind='bar',\n",
    "                          title='Coefficients Interest rate prediction, Training',\n",
    "                          yaxis_title='Coefficients in decimal',\n",
    "                          xaxis_title='Lags Interest Rate')\n",
    "print(f\"Training Coefficients: {lr.coef_}\")\n",
    "\n",
    "lr = LinearRegression(fit_intercept=False)\n",
    "ranged = test_df[[f'interest_rate_{lag}' for lag in range(lags)] + ['next_interest_rate']].dropna()\n",
    "lr.fit(ranged[[f'interest_rate_{lag}' for lag in range(lags)]], ranged['next_interest_rate'])\n",
    "pd.Series(lr.coef_).iplot(kind='bar',\n",
    "                          title='Coefficients Interest rate prediction, Test',\n",
    "                          yaxis_title='Coefficients in decimal',\n",
    "                          xaxis_title='Lags Interest Rate')\n",
    "print(f\"Test Coefficients: {lr.coef_}\")"
   ],
   "metadata": {
    "collapsed": false,
    "pycharm": {
     "name": "#%%\n"
    }
   },
   "execution_count": null,
   "outputs": []
  },
  {
   "cell_type": "markdown",
   "source": [
    "## Tasks\n",
    "\n",
    "1. Load a different product (e.g. p2 or p3) and analyze the Correlations there. Are they similar?\n",
    "\n",
    "\n"
   ],
   "metadata": {
    "collapsed": false,
    "pycharm": {
     "name": "#%% md\n"
    }
   }
  }
 ],
 "metadata": {
  "kernelspec": {
   "name": "pycharm-346ac218",
   "language": "python",
   "display_name": "PyCharm (rl-finance-private)"
  },
  "language_info": {
   "codemirror_mode": {
    "name": "ipython",
    "version": 2
   },
   "file_extension": ".py",
   "mimetype": "text/x-python",
   "name": "python",
   "nbconvert_exporter": "python",
   "pygments_lexer": "ipython2",
   "version": "2.7.6"
  }
 },
 "nbformat": 4,
 "nbformat_minor": 0
}